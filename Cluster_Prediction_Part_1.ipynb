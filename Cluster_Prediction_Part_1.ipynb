{
  "nbformat": 4,
  "nbformat_minor": 0,
  "metadata": {
    "colab": {
      "provenance": []
    },
    "kernelspec": {
      "name": "python3",
      "display_name": "Python 3"
    },
    "language_info": {
      "name": "python"
    }
  },
  "cells": [
    {
      "cell_type": "code",
      "execution_count": null,
      "metadata": {
        "colab": {
          "base_uri": "https://localhost:8080/"
        },
        "id": "mr-8YEJE1Xr3",
        "outputId": "235082b5-7ef1-4ef9-b2d9-98c6940bcd32"
      },
      "outputs": [
        {
          "output_type": "stream",
          "name": "stdout",
          "text": [
            "Silhouette score (train): 0.5791\n"
          ]
        }
      ],
      "source": [
        "import pandas as pd\n",
        "from sklearn.svm import SVC\n",
        "from sklearn.metrics import silhouette_score\n",
        "from sklearn.preprocessing import StandardScaler\n",
        "from sklearn.manifold import TSNE\n",
        "\n",
        "#task 1: clustering\n",
        "\n",
        "train_data = pd.read_excel(\"/content/train.xlsx\")\n",
        "target_variable = train_data.pop(\"target\")\n",
        "\n",
        "# Preprocessing the numerical features\n",
        "scaler = StandardScaler()\n",
        "scaled_train_data = scaler.fit_transform(train_data)\n",
        "\n",
        "# I found the hyperparameters by running a grid search\n",
        "#previously I tried K-means but it was yielding quite poor results with this dataset\n",
        "svc = SVC(C=0.1, gamma=0.1, kernel='rbf')\n",
        "\n",
        "svc.fit(scaled_train_data, target_variable)\n",
        "\n",
        "# Predicting cluster labels\n",
        "train_cluster_labels = svc.predict(scaled_train_data)\n",
        "\n",
        "# Calculating silhouette score for checking accuracy\n",
        "silhouette_score_train = silhouette_score(scaled_train_data, train_cluster_labels)\n",
        "print(f\"Silhouette score (train): {silhouette_score_train:.4f}\")\n",
        "\n",
        "\n",
        "\n",
        "\n"
      ]
    },
    {
      "cell_type": "code",
      "source": [
        "# A new data point (for testing purpose)\n",
        "new_data_point = pd.DataFrame({\"T1\":-70,\"T2\":-59,\"T3\":-67,\"T4\":-58,\"T5\":-91,\"T6\":-99,\"T7\":-76,\"T8\":-54,\"T9\":-93,\"T10\":-72,\"T11\":-83,\"T12\":-54,\"T13\":-77,\"T14\":-65,\"T15\":-82,\"T16\":-88,\"T17\":-54,\"T18\":-76}, index=[0])\n",
        "# Preprocessing\n",
        "scaled_new_data_point = scaler.transform(new_data_point)\n",
        "\n",
        "# Using the best model to predict the cluster label\n",
        "predicted_cluster = svc.predict(scaled_new_data_point)\n",
        "\n",
        "print(f\"Predicted cluster for the new data point: {predicted_cluster[0]}\")\n",
        "\n",
        "\n",
        "\n"
      ],
      "metadata": {
        "colab": {
          "base_uri": "https://localhost:8080/"
        },
        "id": "2fewS2xgBaQ0",
        "outputId": "2aa5109e-17ca-482b-9c37-3ec8237f289c"
      },
      "execution_count": null,
      "outputs": [
        {
          "output_type": "stream",
          "name": "stdout",
          "text": [
            "Predicted cluster for the new data point: A39\n"
          ]
        }
      ]
    },
    {
      "cell_type": "code",
      "source": [
        "# task2: clasification\n",
        "\n",
        "import pandas as pd\n",
        "from sklearn.model_selection import train_test_split\n",
        "from sklearn.ensemble import RandomForestClassifier\n",
        "from sklearn.metrics import accuracy_score\n",
        "\n",
        "\n",
        "data = pd.read_excel(\"/content/train.xlsx\")\n",
        "X = data.drop(\"target\", axis=1)  # Features\n",
        "y = data[\"target\"]  # Target variable\n",
        "\n",
        "# Splitting data into train and test sets\n",
        "X_train, X_test, y_train, y_test = train_test_split(X, y, test_size=0.2)\n",
        "\n",
        "# training with the Random Forest model\n",
        "model = RandomForestClassifier()\n",
        "model.fit(X_train, y_train)\n",
        "\n",
        "# Making predictions on test set\n",
        "y_pred = model.predict(X_test)\n",
        "\n",
        "# Evaluating accuracy\n",
        "accuracy = accuracy_score(y_test, y_pred)\n",
        "print(f\"Train accuracy: {accuracy:.4f}\")\n",
        "\n",
        "\n"
      ],
      "metadata": {
        "colab": {
          "base_uri": "https://localhost:8080/"
        },
        "id": "vnAHsO7fPY50",
        "outputId": "0d0611ad-48eb-4854-d4db-39229293f74e"
      },
      "execution_count": null,
      "outputs": [
        {
          "output_type": "stream",
          "name": "stdout",
          "text": [
            "Train accuracy: 0.9894\n"
          ]
        }
      ]
    },
    {
      "cell_type": "code",
      "source": [
        "#I tried using other Classifiers like SVM but Random Forest had the highest training accuracy, so I'm proceeding with it\n",
        "\n",
        "test_data = pd.read_excel(\"/content/test.xlsx\")\n",
        "\n",
        "X_test = test_data\n",
        "\n",
        "# Generating predictions with Random Forest\n",
        "predicted_targets = model.predict(X_test)\n",
        "\n",
        "test_data[\"predicted_target\"] = predicted_targets\n",
        "\n",
        "\n",
        "print(test_data[\"predicted_target\"])\n",
        "\n"
      ],
      "metadata": {
        "colab": {
          "base_uri": "https://localhost:8080/"
        },
        "id": "l84mxDnxTe9k",
        "outputId": "7caeae8c-8403-4887-abfe-648c44ac8a0d"
      },
      "execution_count": null,
      "outputs": [
        {
          "output_type": "stream",
          "name": "stdout",
          "text": [
            "0        B74\n",
            "1        A10\n",
            "2        B65\n",
            "3        B20\n",
            "4        A67\n",
            "        ... \n",
            "15747    A71\n",
            "15748    B11\n",
            "15749    B69\n",
            "15750    A38\n",
            "15751    A80\n",
            "Name: predicted_target, Length: 15752, dtype: object\n"
          ]
        }
      ]
    },
    {
      "cell_type": "code",
      "source": [
        "#Exporting the target values to Excel file so that it can be easily shared\n",
        "test_data[\"predicted_target\"].to_excel(\"target_values.xlsx\", index=False)"
      ],
      "metadata": {
        "id": "MZJxKgX8ZpjV"
      },
      "execution_count": null,
      "outputs": []
    },
    {
      "cell_type": "code",
      "source": [
        "!pip install Streamlit"
      ],
      "metadata": {
        "id": "y2xNw-1k1Rzk"
      },
      "execution_count": null,
      "outputs": []
    },
    {
      "cell_type": "code",
      "source": [
        "!npm install localtunnel\n"
      ],
      "metadata": {
        "id": "3nbkFDoc3kTg"
      },
      "execution_count": null,
      "outputs": []
    },
    {
      "cell_type": "code",
      "source": [
        "%%writefile app.py\n",
        "\n",
        "import streamlit as st\n",
        "import pandas as pd\n",
        "\n",
        "df = pd.read_excel(\"/content/rawdata.xlsx\")\n",
        "# Counting picking and placing activities by date\n",
        "picking_counts = df[df['activity'] == 'picked'].groupby('date')['number'].sum()\n",
        "placing_counts = df[df['activity'] == 'placed'].groupby('date')['number'].sum()\n",
        "\n",
        "\n",
        "results = pd.DataFrame({'Picking': picking_counts, 'Placing': placing_counts})\n",
        "print(results)\n",
        "\n",
        "\n",
        "st.header(\"Datewise Picking/Placing Activity\")\n",
        "\n",
        "# Display the DataFrame directly with st.dataframe\n",
        "st.dataframe(results)\n",
        "\n",
        "# Or, display individual counts with st.metric\n",
        "st.metric(label=\"Total Picking Activities\", value=results['Picking'].sum())\n",
        "st.metric(label=\"Total Placing Activities\", value=results['Placing'].sum())"
      ],
      "metadata": {
        "colab": {
          "base_uri": "https://localhost:8080/"
        },
        "id": "vC2a3dC3y-KZ",
        "outputId": "c0c91f2e-55f6-49bd-d099-73d5ff5efc1c"
      },
      "execution_count": null,
      "outputs": [
        {
          "output_type": "stream",
          "name": "stdout",
          "text": [
            "Overwriting app.py\n"
          ]
        }
      ]
    },
    {
      "cell_type": "code",
      "source": [
        "!streamlit run /content/app.py &>/content/logs.txt &"
      ],
      "metadata": {
        "id": "OBFdobn63y7o"
      },
      "execution_count": null,
      "outputs": []
    },
    {
      "cell_type": "code",
      "source": [
        "!npx localtunnel --port 8501 & curl ipv4.icanhazip.com\n"
      ],
      "metadata": {
        "colab": {
          "base_uri": "https://localhost:8080/"
        },
        "id": "m3jLkrSX3_Ke",
        "outputId": "881bfc40-ec96-43af-f2f4-aba2df3516ff"
      },
      "execution_count": null,
      "outputs": [
        {
          "output_type": "stream",
          "name": "stdout",
          "text": [
            "35.243.162.147\n",
            "\u001b[K\u001b[?25hnpx: installed 22 in 1.868s\n",
            "your url is: https://late-planets-dance.loca.lt\n"
          ]
        }
      ]
    }
  ]
}